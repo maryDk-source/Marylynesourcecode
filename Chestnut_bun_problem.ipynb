{
 "cells": [
  {
   "cell_type": "markdown",
   "metadata": {},
   "source": [
    "The chestnut bun problem"
   ]
  },
  {
   "cell_type": "code",
   "execution_count": null,
   "metadata": {},
   "outputs": [],
   "source": [
    "import math\n",
    "chestnut_cake = 6 * 4 * 3 /1000000\n",
    "solar_system = math.pi * 3 * (15 * 10 **15)**3 / 4\n",
    "\n",
    "def minutes_covering(sprinkle_size, compared_size):\n",
    "    count = 0\n",
    "    while sprinkle_size < original_size:\n",
    "        \n",
    "        sprinkle_size *= 2\n",
    "        count += 1\n",
    "    minute = count * 5   \n",
    "    return minute\n",
    "\n",
    "\n",
    "print(minutes_covering(chestnut_cake, solar_system))"
   ]
  },
  {
   "cell_type": "markdown",
   "metadata": {},
   "source": [
    "THE TIME IT TAKE FOR THE TOKYO DOME TO FILL UP"
   ]
  },
  {
   "cell_type": "code",
   "execution_count": null,
   "metadata": {},
   "outputs": [],
   "source": [
    "tokyo_dome = 1240000 \n",
    "print(minutes_covering(chestnut_cake, tokyo_dome))"
   ]
  },
  {
   "cell_type": "code",
   "execution_count": null,
   "metadata": {},
   "outputs": [],
   "source": []
  }
 ],
 "metadata": {
  "kernelspec": {
   "display_name": "Python 3",
   "language": "python",
   "name": "python3"
  },
  "language_info": {
   "codemirror_mode": {
    "name": "ipython",
    "version": 3
   },
   "file_extension": ".py",
   "mimetype": "text/x-python",
   "name": "python",
   "nbconvert_exporter": "python",
   "pygments_lexer": "ipython3",
   "version": "3.8.5"
  }
 },
 "nbformat": 4,
 "nbformat_minor": 4
}
